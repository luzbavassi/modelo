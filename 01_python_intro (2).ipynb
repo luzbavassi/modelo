{
 "cells": [
  {
   "cell_type": "markdown",
   "metadata": {},
   "source": [
    "# Python para Físicos\n",
    "\n",
    "## Qué es\n",
    "\n",
    "Python es un lenguaje de programación. Es libre y es gratuito. Como es libre y gratuito mucha gente, empresas, organizaciones, hacen paquetes de python. Por eso hay un ecosistema de paquetes que dependen entre sí y que no están centralizados. Es fácil perderse al principio entre tantas posibilidades. \n",
    "\n",
    "\n",
    "![python_ecosystem](imgs/ecosystem_small.jpg)\n",
    "\n",
    "\n",
    "### Python en mi casa: el camino difícil\n",
    "\n",
    "![python.org](imgs/python_org_small.png)\n",
    "\n",
    "Podemos instalar Python desde la página de la [organización python](https://www.python.org/). Vamos a instalar el lenguaje python y los paquete de la librería estándar. Si tienen una distribución popular de Linux porbablemente ya lo tengan instalado.\n",
    "\n",
    "### Python en mi casa: el camino fácil\n",
    "\n",
    "![anaconda](imgs/anaconda_small.png)\n",
    "\n",
    "[Continuum](https://www.continuum.io/) es una empresa que hace una distribución de Python muy cómoda, con muchos paquetes ya instalados y un instalador llamado conda que es muy útil.\n",
    "\n",
    "## IDEs\n",
    "\n",
    "Una [IDE](https://en.wikipedia.org/wiki/Integrated_development_environment) es un entorno de desarrollo integrado. Es la forma de comunicarnos con el lenguaje. Lo que se ve. En este caso estamos usando Jupyter Notebook. Otro IDE famoso para python es Spyder. Si se instalaron Anaconda ya tienen los dos.\n",
    "\n",
    "### Jupyter Notebook\n",
    "\n",
    "Funciona así. Hay celdas y en cada celda puedo escribir código en lenguaje python. Si aprieto Ctrl + Enter, lo que escribí en esa celda se manda al interprete de python, el interprete lo interpreta y si hay alguna respuesta se muestra inmediatamente abajo de la celda.\n",
    "\n",
    "Si quiero agregar una celda puedo hacer click en el + que está arriba o uso el shortcut Esc+b.\n",
    "\n",
    "### A Trabajar\n",
    "\n",
    "En la celda de abajo van a ver el comando más famoso del mundo. ¿Qué hace?"
   ]
  },
  {
   "cell_type": "code",
   "execution_count": 3,
   "metadata": {},
   "outputs": [
    {
     "name": "stdout",
     "output_type": "stream",
     "text": [
      "Hola mundo!\n"
     ]
    }
   ],
   "source": [
    "print('Hola mundo!')"
   ]
  },
  {
   "cell_type": "markdown",
   "metadata": {},
   "source": [
    "### Python funciona como una calculadora\n",
    "Pueden sumar, restar, multiplicar, dividir, elevar un número a alguna potencia.\n",
    "Cuidado con la división. Si dividen dos número enteros (en python 2) el resultado es entero. Si dividen dos número racionales el resultado es racional. Se puede zafar de esto escribiendo un punto después de cada número."
   ]
  },
  {
   "cell_type": "code",
   "execution_count": 4,
   "metadata": {},
   "outputs": [
    {
     "data": {
      "text/plain": [
       "2"
      ]
     },
     "execution_count": 4,
     "metadata": {},
     "output_type": "execute_result"
    }
   ],
   "source": [
    "1+1"
   ]
  },
  {
   "cell_type": "code",
   "execution_count": 5,
   "metadata": {},
   "outputs": [
    {
     "data": {
      "text/plain": [
       "40"
      ]
     },
     "execution_count": 5,
     "metadata": {},
     "output_type": "execute_result"
    }
   ],
   "source": [
    "8*5"
   ]
  },
  {
   "cell_type": "markdown",
   "metadata": {},
   "source": [
    "¡Cuidado! Si escribo más de un renglón en una celda hace todas las cuentas pero me muestra solo la última"
   ]
  },
  {
   "cell_type": "code",
   "execution_count": 6,
   "metadata": {},
   "outputs": [
    {
     "data": {
      "text/plain": [
       "40"
      ]
     },
     "execution_count": 6,
     "metadata": {},
     "output_type": "execute_result"
    }
   ],
   "source": [
    "1+1\n",
    "8*5"
   ]
  },
  {
   "cell_type": "markdown",
   "metadata": {},
   "source": [
    "Por eso usamos la función print si queremos que se muestre algo que no está al final"
   ]
  },
  {
   "cell_type": "code",
   "execution_count": 1,
   "metadata": {},
   "outputs": [
    {
     "name": "stdout",
     "output_type": "stream",
     "text": [
      "9\n",
      "21\n",
      "3.5\n",
      "3.5\n",
      "25\n",
      "5.0\n"
     ]
    }
   ],
   "source": [
    "print(7+2)\n",
    "print(7*3)\n",
    "print(7/2)\n",
    "print(7./2)\n",
    "## Esto es un comemntario y no se va a ejecutar. Sirve para hacer anotaciones en el código y entender por qué\n",
    "## escribimos lo que escribimos y para qué sirve. En versiones anteriores de python era necesario ponerles un . \n",
    "## a los números para que la compu entienda que estábamos trabajando con punto flotante. Sino el resultado se \n",
    "## muestra como un entero y operaciones como 1/2 = 0 !! Pero hace varias versiones que eso no pasa más.\n",
    "print(5**2)\n",
    "print(25**0.5)"
   ]
  },
  {
   "cell_type": "markdown",
   "metadata": {},
   "source": [
    "Como en la calculadora, puedo guardar resultados en variables.\n",
    "Para hacerlo solo tengo que elegir el nombre de mi variable (no puede empezar con un número) y guardar el número que quiero en esa variable usando un igual como se muestra en la celda de abajo\n"
   ]
  },
  {
   "cell_type": "code",
   "execution_count": 8,
   "metadata": {},
   "outputs": [
    {
     "name": "stdout",
     "output_type": "stream",
     "text": [
      "6\n"
     ]
    }
   ],
   "source": [
    "a = 3\n",
    "b = 2\n",
    "lala = a*b\n",
    "print(lala)"
   ]
  },
  {
   "cell_type": "markdown",
   "metadata": {},
   "source": [
    "Ojo, el igual en computación es una asignación. A la derecha del igual se hacen todas las cuentas y el resultado se guarda en el símbolo de la derecha"
   ]
  },
  {
   "cell_type": "markdown",
   "metadata": {},
   "source": [
    "## Variables"
   ]
  },
  {
   "cell_type": "code",
   "execution_count": 2,
   "metadata": {
    "collapsed": true
   },
   "outputs": [],
   "source": [
    "x = 5\n",
    "y = 'Hola mundo!'\n",
    "z = 7.5"
   ]
  },
  {
   "cell_type": "code",
   "execution_count": 3,
   "metadata": {},
   "outputs": [
    {
     "name": "stdout",
     "output_type": "stream",
     "text": [
      "<class 'int'>\n",
      "<class 'str'>\n",
      "<class 'float'>\n"
     ]
    }
   ],
   "source": [
    "print(type(x))\n",
    "print(type(y))\n",
    "print(type(z))"
   ]
  },
  {
   "cell_type": "markdown",
   "metadata": {},
   "source": [
    "## Listas\n",
    "\n",
    "Hasta ahora vimos tres tipos de datos, los números enteros (int, de integer en inglés), los racionales (float, de números de punto flotante. En realidad estos no son todos los racionales sino un subconjunto que se llaman lo números de máquina, no nos vamos a preocupar por eso ahora) y los strings (str, son texto)\n",
    "\n",
    "Python tiene dos tipos de datos más que son muy útiles: las listas y los diccionarios. Por ahora vamos a ver solo las listas.\n",
    "Las listas son conjuntos ordenados. Se definen usando corchetes. Separados por coma se ponen los elementos. Los elementos pueden ser cualquier tipo de datos: str, int, float e incluso otras listas!\n",
    "\n",
    "Puedo acceder a cada uno de sus elementos por separado usando el método []. Entre corchetes tengo que indicar la posición del elemento de la lista al cual quiero acceder. Python empieza a contar desde 0, ojo."
   ]
  },
  {
   "cell_type": "code",
   "execution_count": 9,
   "metadata": {},
   "outputs": [
    {
     "name": "stdout",
     "output_type": "stream",
     "text": [
      "[2, 3, 8, -1, -5.2]\n",
      "hola\n",
      "[2, 3, 99, -1, -5.2]\n"
     ]
    }
   ],
   "source": [
    "foo = [2, 3, 8, -1, -5.2]\n",
    "temp2 = [4, 'hola', [4,5], a]\n",
    "print(foo)\n",
    "print(temp2[1])\n",
    "foo[2] = 99\n",
    "print(foo)"
   ]
  },
  {
   "cell_type": "markdown",
   "metadata": {},
   "source": [
    "Muchas veces vamos a necesitar una lista de números naturales consecutivos. Hay un comando para eso! range"
   ]
  },
  {
   "cell_type": "code",
   "execution_count": 9,
   "metadata": {},
   "outputs": [
    {
     "name": "stdout",
     "output_type": "stream",
     "text": [
      "range(0, 5)\n",
      "range(2, 9)\n",
      "range(2, 20, 3)\n"
     ]
    }
   ],
   "source": [
    "print(range(5))\n",
    "print(range(2,9))\n",
    "print(range(2,20, 3))"
   ]
  },
  {
   "cell_type": "code",
   "execution_count": 10,
   "metadata": {},
   "outputs": [
    {
     "data": {
      "text/plain": [
       "(0, 3)"
      ]
     },
     "execution_count": 10,
     "metadata": {},
     "output_type": "execute_result"
    }
   ],
   "source": [
    "x = range(4)\n",
    "x[0], x[3]"
   ]
  },
  {
   "cell_type": "markdown",
   "metadata": {},
   "source": [
    "## Otro tipo de variables más. Booleanas\n",
    "\n",
    "Además de todas la que vimos también tenemos un tipo de datos que se llaman booleanos, o lógicos. Pueden tomar solo dos valores: True o False. \n",
    "Se puede operar con estas variables con funciones lógicas como =, <, not, or, and"
   ]
  },
  {
   "cell_type": "code",
   "execution_count": 13,
   "metadata": {},
   "outputs": [
    {
     "name": "stdout",
     "output_type": "stream",
     "text": [
      "True\n",
      "False\n",
      "False\n",
      "True\n",
      "False\n",
      "True\n",
      "True\n",
      "False\n"
     ]
    }
   ],
   "source": [
    "algo = True\n",
    "print(algo)\n",
    "print(not algo)\n",
    "print(2==1)\n",
    "print(2==2)\n",
    "print(6>6)\n",
    "print(6>=6)\n",
    "print(algo or 6<1)\n",
    "print(algo and 6<1)"
   ]
  },
  {
   "cell_type": "markdown",
   "metadata": {},
   "source": [
    "## Loops\n",
    "\n",
    "Y acá es cuando la cosa se pone interesante. Un loop es una manera de escribir mucho código en muy poco espacio. Solo lo podemos hacer cuando tenemos que repetir un comando muchas veces pero con una pequeña diferencia."
   ]
  },
  {
   "cell_type": "code",
   "execution_count": 11,
   "metadata": {},
   "outputs": [
    {
     "name": "stdout",
     "output_type": "stream",
     "text": [
      "4\n",
      "hola\n",
      "[4, 5]\n",
      "3\n"
     ]
    }
   ],
   "source": [
    "for i in temp2:\n",
    "    print(i)"
   ]
  },
  {
   "cell_type": "markdown",
   "metadata": {},
   "source": [
    "Ahora veamos un clásico. ¿Qué hace la celda de abajo?"
   ]
  },
  {
   "cell_type": "code",
   "execution_count": 12,
   "metadata": {},
   "outputs": [
    {
     "name": "stdout",
     "output_type": "stream",
     "text": [
      "5050\n"
     ]
    }
   ],
   "source": [
    "a = 0\n",
    "for i in range(101):\n",
    "    a = a + i\n",
    "print(a)"
   ]
  },
  {
   "cell_type": "markdown",
   "metadata": {},
   "source": [
    "# If, elif, else\n",
    "Y con esto ya somos programadores"
   ]
  },
  {
   "cell_type": "code",
   "execution_count": 14,
   "metadata": {},
   "outputs": [
    {
     "name": "stdout",
     "output_type": "stream",
     "text": [
      "ohh\n"
     ]
    }
   ],
   "source": [
    "a=3\n",
    "if a==2:\n",
    "    print('yeah')\n",
    "elif a==3:\n",
    "    print('ohh')\n",
    "else:\n",
    "    print('noo')   "
   ]
  },
  {
   "cell_type": "markdown",
   "metadata": {},
   "source": [
    "# Funciones, args, kwargs"
   ]
  },
  {
   "cell_type": "code",
   "execution_count": 15,
   "metadata": {
    "collapsed": true
   },
   "outputs": [],
   "source": [
    "def myhello():\n",
    "    return 'aloja'"
   ]
  },
  {
   "cell_type": "code",
   "execution_count": 16,
   "metadata": {},
   "outputs": [
    {
     "data": {
      "text/plain": [
       "'aloja'"
      ]
     },
     "execution_count": 16,
     "metadata": {},
     "output_type": "execute_result"
    }
   ],
   "source": [
    "myhello()"
   ]
  },
  {
   "cell_type": "code",
   "execution_count": 17,
   "metadata": {},
   "outputs": [
    {
     "data": {
      "text/plain": [
       "'aloja john'"
      ]
     },
     "execution_count": 17,
     "metadata": {},
     "output_type": "execute_result"
    }
   ],
   "source": [
    "def say_hello(name):\n",
    "    out = 'aloja ' + name\n",
    "    return out\n",
    "\n",
    "say_hello('john')"
   ]
  },
  {
   "cell_type": "code",
   "execution_count": 18,
   "metadata": {},
   "outputs": [
    {
     "name": "stdout",
     "output_type": "stream",
     "text": [
      "aloja john and foo\n",
      "aloja john and bar\n",
      "aloja john and bar\n"
     ]
    }
   ],
   "source": [
    "def say_hello(name, other_name='foo'):\n",
    "    out = 'aloja ' + name + ' and ' + other_name\n",
    "    return out\n",
    "\n",
    "print(say_hello('john'))\n",
    "print(say_hello('john', other_name='bar'))\n",
    "print(say_hello('john', 'bar'))"
   ]
  },
  {
   "cell_type": "markdown",
   "metadata": {},
   "source": [
    "## Funciones lambda"
   ]
  },
  {
   "cell_type": "markdown",
   "metadata": {},
   "source": [
    "Las funciones lambda son más que nada para funciones matemáticas, aunque también tenga otros usos. Definamos el polinomio $f(x)=x2−5x+6$ que tiene como raíces x=3 y x=2."
   ]
  },
  {
   "cell_type": "code",
   "execution_count": 12,
   "metadata": {},
   "outputs": [
    {
     "name": "stdout",
     "output_type": "stream",
     "text": [
      "0 0 6\n"
     ]
    }
   ],
   "source": [
    "f = lambda x: x**2 - 5*x + 6\n",
    "print(f(3), f(2), f(0))"
   ]
  },
  {
   "cell_type": "markdown",
   "metadata": {},
   "source": [
    "## Algunos paquetes de la librería estándar"
   ]
  },
  {
   "cell_type": "code",
   "execution_count": 19,
   "metadata": {
    "collapsed": true
   },
   "outputs": [],
   "source": [
    "import random\n",
    "from glob import glob"
   ]
  },
  {
   "cell_type": "code",
   "execution_count": 20,
   "metadata": {},
   "outputs": [
    {
     "name": "stdout",
     "output_type": "stream",
     "text": [
      "0.9297556279383977\n",
      "6\n"
     ]
    }
   ],
   "source": [
    "print(random.random())\n",
    "print(random.randint(0,10))"
   ]
  },
  {
   "cell_type": "code",
   "execution_count": 21,
   "metadata": {},
   "outputs": [
    {
     "data": {
      "text/plain": [
       "['01_python_intro.ipynb',\n",
       " '02_ejercicios_python_intro.ipynb',\n",
       " '03_euler.ipynb',\n",
       " '04_ejercicios_euler.ipynb',\n",
       " '05_python_extra.ipynb']"
      ]
     },
     "execution_count": 21,
     "metadata": {},
     "output_type": "execute_result"
    }
   ],
   "source": [
    "glob('*.ipynb')"
   ]
  },
  {
   "cell_type": "code",
   "execution_count": 15,
   "metadata": {},
   "outputs": [
    {
     "name": "stdout",
     "output_type": "stream",
     "text": [
      "16.0 -1.0 2.0 1.0\n"
     ]
    }
   ],
   "source": [
    "import math \n",
    "\n",
    "r1 = math.pow(2,4)\n",
    "r2 = math.cos(math.pi)\n",
    "r3 = math.log(100,10)\n",
    "r4 = math.log(math.e)\n",
    "print(r1, r2, r3, r4)"
   ]
  },
  {
   "cell_type": "markdown",
   "metadata": {},
   "source": [
    "## Algunos paquetes famosos"
   ]
  },
  {
   "cell_type": "code",
   "execution_count": 16,
   "metadata": {
    "collapsed": true
   },
   "outputs": [],
   "source": [
    "%matplotlib inline ## Para que los gráficos aparezcan en el output\n",
    "import numpy as np\n",
    "import matplotlib.pyplot as plt"
   ]
  },
  {
   "cell_type": "code",
   "execution_count": 17,
   "metadata": {},
   "outputs": [
    {
     "name": "stdout",
     "output_type": "stream",
     "text": [
      "4.95\n",
      "29.5329664104\n"
     ]
    },
    {
     "data": {
      "image/png": "[encoded data removed]",
      "text/plain": [
       "<matplotlib.figure.Figure at 0x1ea027c15c0>"
      ]
     },
     "metadata": {},
     "output_type": "display_data"
    }
   ],
   "source": [
    "x = np.arange(0, 10, 0.1)\n",
    "y = x**2\n",
    "print(x.mean())\n",
    "print(y.std())\n",
    "plt.plot(x, y)\n",
    "plt.show()"
   ]
  },
  {
   "cell_type": "code",
   "execution_count": 18,
   "metadata": {},
   "outputs": [
    {
     "data": {
      "image/png": "[encoded data removed]",
      "text/plain": [
       "<matplotlib.figure.Figure at 0x1ea02c112b0>"
      ]
     },
     "metadata": {},
     "output_type": "display_data"
    }
   ],
   "source": [
    "x = np.arange(-10, 10, 0.01)\n",
    "y = np.sin(x) + np.random.rand(len(x))\n",
    "plt.plot(x, y)\n",
    "plt.show()"
   ]
  },
  {
   "cell_type": "code",
   "execution_count": 23,
   "metadata": {},
   "outputs": [
    {
     "data": {
      "text/plain": [
       "<matplotlib.text.Text at 0x1ea030197f0>"
      ]
     },
     "execution_count": 23,
     "metadata": {},
     "output_type": "execute_result"
    },
    {
     "data": {
      "image/png": "[encoded data removed]",
      "text/plain": [
       "<matplotlib.figure.Figure at 0x1ea02c91908>"
      ]
     },
     "metadata": {},
     "output_type": "display_data"
    }
   ],
   "source": [
    "x = np.random.randn(10)\n",
    "y = np.random.randn(100)\n",
    "z = np.random.randn(1000)\n",
    "\n",
    "plt.rcParams[\"figure.figsize\"] = [15, 4]\n",
    "plt.subplot(131)\n",
    "plt.hist(x)\n",
    "plt.title('Histograma n=10')\n",
    "plt.subplot(132)\n",
    "plt.hist(y)\n",
    "plt.title('Histograma n=100')\n",
    "plt.subplot(133)\n",
    "plt.hist(z)\n",
    "plt.title('Histograma n=1000')\n",
    "\n"
   ]
  },
  {
   "cell_type": "markdown",
   "metadata": {
    "collapsed": true
   },
   "source": [
    "Supongamos que ahora queremos ajustar estos datos por una gaussiana."
   ]
  },
  {
   "cell_type": "code",
   "execution_count": 31,
   "metadata": {},
   "outputs": [
    {
     "data": {
      "text/plain": [
       "<matplotlib.text.Text at 0x1ea05d59470>"
      ]
     },
     "execution_count": 31,
     "metadata": {},
     "output_type": "execute_result"
    },
    {
     "data": {
      "image/png": "[encoded data removed]",
      "text/plain": [
       "<matplotlib.figure.Figure at 0x1ea05df5518>"
      ]
     },
     "metadata": {},
     "output_type": "display_data"
    }
   ],
   "source": [
    "from scipy.stats import norm\n",
    "mean_x,std_x=norm.fit(x)\n",
    "mean_y,std_y=norm.fit(y)\n",
    "mean_z,std_z=norm.fit(z)\n",
    "\n",
    "plt.subplot(131)\n",
    "plt.hist(x, normed = True)\n",
    "xmin, xmax = plt.xlim()\n",
    "u = np.linspace(xmin, xmax, 100)\n",
    "v = norm.pdf(u, mean_x, std_x)\n",
    "plt.plot(u, v)\n",
    "plt.legend([\"Ajuste Gaussiano\"])\n",
    "plt.title('Histograma n=10')\n",
    "\n",
    "plt.subplot(132)\n",
    "plt.hist(y, normed = True)\n",
    "xmin, xmax = plt.xlim()\n",
    "u = np.linspace(xmin, xmax, 100)\n",
    "v = norm.pdf(u, mean_y, std_y)\n",
    "plt.plot(u, v)\n",
    "plt.legend([\"Ajuste Gaussiano\"])\n",
    "plt.title('Histograma n=100')\n",
    "\n",
    "plt.subplot(133)\n",
    "plt.hist(z, normed = True)\n",
    "xmin, xmax = plt.xlim()\n",
    "u = np.linspace(xmin, xmax, 100)\n",
    "v = norm.pdf(u, mean_z, std_z)\n",
    "plt.plot(u, v)\n",
    "plt.legend([\"Ajuste Gaussiano\"])\n",
    "plt.title('Histograma n=1000')"
   ]
  },
  {
   "cell_type": "code",
   "execution_count": null,
   "metadata": {
    "collapsed": true
   },
   "outputs": [],
   "source": []
  }
 ],
 "metadata": {
  "kernelspec": {
   "display_name": "Python 3",
   "language": "python",
   "name": "python3"
  },
  "language_info": {
   "codemirror_mode": {
    "name": "ipython",
    "version": 3
   },
   "file_extension": ".py",
   "mimetype": "text/x-python",
   "name": "python",
   "nbconvert_exporter": "python",
   "pygments_lexer": "ipython3",
   "version": "3.6.1"
  }
 },
 "nbformat": 4,
 "nbformat_minor": 2
}
